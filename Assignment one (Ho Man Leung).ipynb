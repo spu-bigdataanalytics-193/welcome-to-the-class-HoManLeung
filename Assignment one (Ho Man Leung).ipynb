{
 "cells": [
  {
   "cell_type": "code",
   "execution_count": 6,
   "metadata": {},
   "outputs": [
    {
     "name": "stdout",
     "output_type": "stream",
     "text": [
      "My name is Ho Man Leung\n"
     ]
    }
   ],
   "source": [
    "class name:\n",
    "    def __init__(self,fname,lname):\n",
    "        self.first_name = fname\n",
    "        self.last_name = lname\n",
    "    def my_name(self):\n",
    "        print(\"My name is\",self.first_name,self.last_name)\n",
    "n1 = name(\"Ho Man\",\"Leung\")\n",
    "n1.my_name()"
   ]
  },
  {
   "cell_type": "code",
   "execution_count": null,
   "metadata": {},
   "outputs": [],
   "source": []
  }
 ],
 "metadata": {
  "kernelspec": {
   "display_name": "Python 3",
   "language": "python",
   "name": "python3"
  },
  "language_info": {
   "codemirror_mode": {
    "name": "ipython",
    "version": 3
   },
   "file_extension": ".py",
   "mimetype": "text/x-python",
   "name": "python",
   "nbconvert_exporter": "python",
   "pygments_lexer": "ipython3",
   "version": "3.7.4"
  }
 },
 "nbformat": 4,
 "nbformat_minor": 2
}
